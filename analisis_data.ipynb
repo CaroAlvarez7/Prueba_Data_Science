{
 "cells": [
  {
   "cell_type": "markdown",
   "metadata": {},
   "source": [
    "# Selección de datos\n",
    "\n",
    "- Seleccionar posibles variables categoricas\n",
    "- Realizar analisis cuantitativo"
   ]
  },
  {
   "cell_type": "code",
   "execution_count": 2,
   "metadata": {},
   "outputs": [],
   "source": [
    "#Importar libreriras necesarias.\n",
    "\n",
    "from dateutil.relativedelta import relativedelta\n",
    "from datetime import datetime,timedelta\n",
    "\n",
    "import funciones as fc\n",
    "import matplotlib.pyplot as plt\n",
    "import numpy as np\n",
    "import os\n",
    "import pandas as pd\n",
    "import plotly.express as px\n",
    "import scipy.stats as stats\n",
    "import sklearn.metrics as sk\n",
    "\n",
    "# Ajustar la configuración de visualización\n",
    "pd.set_option('display.max_columns', None)  \n"
   ]
  },
  {
   "cell_type": "code",
   "execution_count": null,
   "metadata": {},
   "outputs": [],
   "source": [
    "df= pd.read_csv('data_depurada.csv')\n",
    "print(f'Tamaño del dataframe: {df.shape}')"
   ]
  },
  {
   "cell_type": "code",
   "execution_count": null,
   "metadata": {},
   "outputs": [],
   "source": [
    "#Listar todas las columans del dataframe\n",
    "columnas = df.columns.tolist()\n",
    "print('\\n'.join(columnas))"
   ]
  },
  {
   "cell_type": "code",
   "execution_count": null,
   "metadata": {},
   "outputs": [],
   "source": [
    "#Conocer la cantidad de registros por columna\n",
    "print(\"Cantidad de columnas por tipo:\")\n",
    "df.dtypes.value_counts()"
   ]
  },
  {
   "cell_type": "code",
   "execution_count": null,
   "metadata": {},
   "outputs": [],
   "source": [
    "# Calcular la cantidad de valores nulos por columna\n",
    "null_counts = df.isnull().sum()\n",
    "\n",
    "# Filtrar columnas con valores nulos\n",
    "null_counts = null_counts[null_counts >1]\n",
    "\n",
    "# Ordenar de mayor a menor cantidad de valores nulos\n",
    "null_counts = null_counts.sort_values(ascending=True)\n",
    "\n",
    "print(f\"Analisis de valores nulos: \\n{null_counts}\")"
   ]
  },
  {
   "cell_type": "code",
   "execution_count": null,
   "metadata": {},
   "outputs": [],
   "source": [
    "#Observar comportamiento estadistico e las columnas númericas\n",
    "fc.boxplot_numeric_variables_plotly(df,column='NIS_RAD')"
   ]
  },
  {
   "cell_type": "code",
   "execution_count": null,
   "metadata": {},
   "outputs": [],
   "source": [
    "# Analisis de valores unicos en las columnas de tipo texto para cada Dataframe\n",
    "print(\"Analisis valores unicos columnas tipo texto\")\n",
    "\n",
    "total_filas = len(df)\n",
    "\n",
    "columnas_texto = df.select_dtypes(include='object').columns\n",
    "\n",
    "columna_nulas = null_counts[null_counts/total_filas > 0.59].index.tolist()\n",
    "\n",
    "for columna in columnas_texto:\n",
    "    \n",
    "    if df[columna].value_counts().mean()>1 and columna not in columna_nulas:\n",
    "        \n",
    "        print(\"=\"*100)\n",
    "\n",
    "        porcentaje_valores_unicos = round(len(df[columna].value_counts())*100/len(df),2)\n",
    "        \n",
    "        print(f\"Valores unicos columna {columna} | % valores unicos ({porcentaje_valores_unicos}):\")\n",
    "        \n",
    "        print(df[columna].value_counts())"
   ]
  },
  {
   "cell_type": "code",
   "execution_count": null,
   "metadata": {},
   "outputs": [],
   "source": [
    "# Función para la generación de gráficos de barra #\n",
    "\n",
    "def generar_grafico_barras(df:pd.DataFrame,columna:str,top:int,titulo_eje_y:str,titulo:str=None):\n",
    " \n",
    "    df_agrupado = df[columna].value_counts().reset_index()\n",
    "\n",
    "    df_agrupado.rename(columns={'index':columna,columna:'total'},inplace=True)\n",
    "\n",
    "    df_agrupado.sort_values(by='total',ascending=True)\n",
    "\n",
    "    df_agrupado['porcentaje'] = df_agrupado['total']*100/df_agrupado['total'].sum()\n",
    "\n",
    "    df_agrupado['porcentaje'] = df_agrupado['porcentaje'].round(2)\n",
    "\n",
    "    df_agrupado['porcentaje_acumulado'] = df_agrupado['porcentaje'].cumsum().round(2)\n",
    "    \n",
    "    if titulo is None:\n",
    "        \n",
    "        #Si la columna tiene más de 50 valores únicos,solo mostrará la cantidad a mostrar en top\n",
    "        titulo_grafico = f'Top {top} columna {columna}' if top<len(df_agrupado) else f'Distribución clientes por {columna}'\n",
    "\n",
    "    else:\n",
    "\n",
    "        titulo_grafico = titulo\n",
    "\n",
    "    df_agrupado = df_agrupado.loc[:top-1,:]\n",
    "\n",
    "    fig = px.bar(data_frame=df_agrupado,x=columna,y='total',\n",
    "                 hover_data=['porcentaje','porcentaje_acumulado'],\n",
    "                 text_auto=True,)\n",
    "\n",
    "    # Personalizar el gráfico\n",
    "    \n",
    "    fig.update_layout(title=titulo_grafico,\n",
    "                  xaxis_title=columna,\n",
    "                  yaxis_title=titulo_eje_y)\n",
    "    \n",
    "    fig.show()"
   ]
  },
  {
   "cell_type": "code",
   "execution_count": null,
   "metadata": {},
   "outputs": [],
   "source": [
    "\n",
    "#Crear una lista de las variables categoricas seleccionadas para graficar\n",
    "list_variables_categoricas = []\n",
    "\n",
    "\n",
    "for columna in list_variables_categoricas:\n",
    "\n",
    "    generar_grafico_barras(df=df,\n",
    "                            columna=columna,\n",
    "                            titulo_eje_y='Total usuarios',\n",
    "                            top=50)"
   ]
  },
  {
   "cell_type": "code",
   "execution_count": null,
   "metadata": {},
   "outputs": [],
   "source": [
    "#Cantidad de clientes por constante\n",
    "x = ''\n",
    "y = ''\n",
    "\n",
    "\n",
    "\n",
    "df_ciiu_agrupado = (df.groupby(x).agg({y:'count'})\n",
    "                    .rename(columns={y:'cantidad_usuarios'}).reset_index())\n",
    "\n",
    "print(\"Cantidad de usuarios por estado\")\n",
    "(df_ciiu_agrupado.sort_values(by=y,ascending=False)[:20])\n"
   ]
  },
  {
   "cell_type": "code",
   "execution_count": null,
   "metadata": {},
   "outputs": [],
   "source": [
    "#Cantidad de clientes por CIIU\n",
    "x = ''\n",
    "y = ''\n",
    "\n",
    "\n",
    "\n",
    "df_ciiu_agrupado = (df.groupby(x).agg({y:'count'})\n",
    "                    .rename(columns={y:'cantidad_usuarios'}).reset_index())\n",
    "\n",
    "print(\"Cantidad de usuarios por estado\")\n",
    "(df_ciiu_agrupado.sort_values(by=y,ascending=False)[:20])\n"
   ]
  }
 ],
 "metadata": {
  "kernelspec": {
   "display_name": "venv",
   "language": "python",
   "name": "python3"
  },
  "language_info": {
   "codemirror_mode": {
    "name": "ipython",
    "version": 3
   },
   "file_extension": ".py",
   "mimetype": "text/x-python",
   "name": "python",
   "nbconvert_exporter": "python",
   "pygments_lexer": "ipython3",
   "version": "3.11.4"
  }
 },
 "nbformat": 4,
 "nbformat_minor": 2
}
